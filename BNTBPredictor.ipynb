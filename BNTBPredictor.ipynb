{
 "cells": [
  {
   "cell_type": "code",
   "execution_count": 15,
   "metadata": {},
   "outputs": [],
   "source": [
    "import pyAgrum as gum\n",
    "import pyAgrum.lib.notebook as gnb"
   ]
  },
  {
   "cell_type": "code",
   "execution_count": 16,
   "metadata": {},
   "outputs": [
    {
     "name": "stdout",
     "output_type": "stream",
     "text": [
      "BN =  BN{nodes: 0, arcs: 0, domainSize: 1, dim: 0, mem: 0o}\n"
     ]
    }
   ],
   "source": [
    "bn=gum.BayesNet('TBPredictor')\n",
    "print(\"BN = \",bn)"
   ]
  },
  {
   "cell_type": "code",
   "execution_count": 17,
   "metadata": {},
   "outputs": [
    {
     "name": "stdout",
     "output_type": "stream",
     "text": [
      "BN With vars :  BN{nodes: 6, arcs: 0, domainSize: 144, dim: 8, mem: 112o}\n"
     ]
    }
   ],
   "source": [
    "# Adding variables \n",
    "tb_infection = bn.add(gum.LabelizedVariable('TBInfection','tbinfection',['yes','no']))\n",
    "gender = bn.add(gum.LabelizedVariable('Gender', 'gender', ['female', 'male']))\n",
    "clinical_symptoms = bn.add(gum.LabelizedVariable('ClinicalSymptoms', 'clinicalsymptoms', ['cough', 'sweats', 'fatigue']))\n",
    "medical_history = bn.add(gum.LabelizedVariable('MedicalHistory', 'medicalhistory', ['nothing','exposureToTB','previousTBInfection']))\n",
    "urban_location = bn.add(gum.LabelizedVariable('UrbanLocation', 'urbanlocation', ['rural', 'urban']))\n",
    "treatment_compliance = bn.add(gum.LabelizedVariable('TreatmentCompliance', 'treatmentcompliance', ['compliant', 'noncompliant']))\n",
    "\n",
    "print (\"BN With vars : \",bn)"
   ]
  },
  {
   "cell_type": "code",
   "execution_count": 18,
   "metadata": {},
   "outputs": [
    {
     "data": {
      "text/html": [
       "<svg xmlns=\"http://www.w3.org/2000/svg\" xmlns:xlink=\"http://www.w3.org/1999/xlink\" width=\"360pt\" height=\"56pt\" viewBox=\"0.00 0.00 360.00 55.75\">\n",
       "<g id=\"graph0\" class=\"graph\" transform=\"scale(0.480582 0.480582) rotate(0) translate(4 112)\">\n",
       "<title>G</title>\n",
       "<!-- TBInfection -->\n",
       "<g id=\"node1\" class=\"node\">\n",
       "<title>TBInfection</title>\n",
       "<g id=\"a_node1\"><a xlink:title=\"(0) TBInfection\">\n",
       "<ellipse fill=\"#404040\" stroke=\"black\" cx=\"408.69\" cy=\"-18\" rx=\"53.89\" ry=\"18\"/>\n",
       "<text text-anchor=\"middle\" x=\"408.69\" y=\"-14.3\" font-family=\"Times,serif\" font-size=\"14.00\" fill=\"white\">TBInfection</text>\n",
       "</a>\n",
       "</g>\n",
       "</g>\n",
       "<!-- UrbanLocation -->\n",
       "<g id=\"node2\" class=\"node\">\n",
       "<title>UrbanLocation</title>\n",
       "<g id=\"a_node2\"><a xlink:title=\"(4) UrbanLocation\">\n",
       "<ellipse fill=\"#404040\" stroke=\"black\" cx=\"63.69\" cy=\"-90\" rx=\"63.89\" ry=\"18\"/>\n",
       "<text text-anchor=\"middle\" x=\"63.69\" y=\"-86.3\" font-family=\"Times,serif\" font-size=\"14.00\" fill=\"white\">UrbanLocation</text>\n",
       "</a>\n",
       "</g>\n",
       "</g>\n",
       "<!-- UrbanLocation&#45;&gt;TBInfection -->\n",
       "<g id=\"edge1\" class=\"edge\">\n",
       "<title>UrbanLocation-&gt;TBInfection</title>\n",
       "<g id=\"a_edge1\"><a xlink:title=\"4 → 0\">\n",
       "<path fill=\"none\" stroke=\"#4a4a4a\" d=\"M111.15,-77.68C119.65,-75.73 128.42,-73.77 136.69,-72 210.48,-56.22 295.96,-39.88 351.1,-29.59\"/>\n",
       "<polygon fill=\"#4a4a4a\" stroke=\"#4a4a4a\" points=\"351.71,-33.04 360.9,-27.77 350.43,-26.16 351.71,-33.04\"/>\n",
       "</a>\n",
       "</g>\n",
       "</g>\n",
       "<!-- ClinicalSymptoms -->\n",
       "<g id=\"node3\" class=\"node\">\n",
       "<title>ClinicalSymptoms</title>\n",
       "<g id=\"a_node3\"><a xlink:title=\"(2) ClinicalSymptoms\">\n",
       "<ellipse fill=\"#404040\" stroke=\"black\" cx=\"222.69\" cy=\"-90\" rx=\"77.19\" ry=\"18\"/>\n",
       "<text text-anchor=\"middle\" x=\"222.69\" y=\"-86.3\" font-family=\"Times,serif\" font-size=\"14.00\" fill=\"white\">ClinicalSymptoms</text>\n",
       "</a>\n",
       "</g>\n",
       "</g>\n",
       "<!-- ClinicalSymptoms&#45;&gt;TBInfection -->\n",
       "<g id=\"edge2\" class=\"edge\">\n",
       "<title>ClinicalSymptoms-&gt;TBInfection</title>\n",
       "<g id=\"a_edge2\"><a xlink:title=\"2 → 0\">\n",
       "<path fill=\"none\" stroke=\"#4a4a4a\" d=\"M262.14,-74.15C291.81,-62.99 332.5,-47.67 363.48,-36.01\"/>\n",
       "<polygon fill=\"#4a4a4a\" stroke=\"#4a4a4a\" points=\"364.46,-39.39 372.59,-32.59 361.99,-32.84 364.46,-39.39\"/>\n",
       "</a>\n",
       "</g>\n",
       "</g>\n",
       "<!-- TreatmentCompliance -->\n",
       "<g id=\"node4\" class=\"node\">\n",
       "<title>TreatmentCompliance</title>\n",
       "<g id=\"a_node4\"><a xlink:title=\"(5) TreatmentCompliance\">\n",
       "<ellipse fill=\"#404040\" stroke=\"black\" cx=\"408.69\" cy=\"-90\" rx=\"90.18\" ry=\"18\"/>\n",
       "<text text-anchor=\"middle\" x=\"408.69\" y=\"-86.3\" font-family=\"Times,serif\" font-size=\"14.00\" fill=\"white\">TreatmentCompliance</text>\n",
       "</a>\n",
       "</g>\n",
       "</g>\n",
       "<!-- TreatmentCompliance&#45;&gt;TBInfection -->\n",
       "<g id=\"edge4\" class=\"edge\">\n",
       "<title>TreatmentCompliance-&gt;TBInfection</title>\n",
       "<g id=\"a_edge4\"><a xlink:title=\"5 → 0\">\n",
       "<path fill=\"none\" stroke=\"#4a4a4a\" d=\"M408.69,-71.7C408.69,-64.41 408.69,-55.73 408.69,-47.54\"/>\n",
       "<polygon fill=\"#4a4a4a\" stroke=\"#4a4a4a\" points=\"412.19,-47.62 408.69,-37.62 405.19,-47.62 412.19,-47.62\"/>\n",
       "</a>\n",
       "</g>\n",
       "</g>\n",
       "<!-- MedicalHistory -->\n",
       "<g id=\"node5\" class=\"node\">\n",
       "<title>MedicalHistory</title>\n",
       "<g id=\"a_node5\"><a xlink:title=\"(3) MedicalHistory\">\n",
       "<ellipse fill=\"#404040\" stroke=\"black\" cx=\"583.69\" cy=\"-90\" rx=\"66.09\" ry=\"18\"/>\n",
       "<text text-anchor=\"middle\" x=\"583.69\" y=\"-86.3\" font-family=\"Times,serif\" font-size=\"14.00\" fill=\"white\">MedicalHistory</text>\n",
       "</a>\n",
       "</g>\n",
       "</g>\n",
       "<!-- MedicalHistory&#45;&gt;TBInfection -->\n",
       "<g id=\"edge3\" class=\"edge\">\n",
       "<title>MedicalHistory-&gt;TBInfection</title>\n",
       "<g id=\"a_edge3\"><a xlink:title=\"3 → 0\">\n",
       "<path fill=\"none\" stroke=\"#4a4a4a\" d=\"M547.43,-74.5C519.88,-63.48 481.87,-48.27 452.59,-36.56\"/>\n",
       "<polygon fill=\"#4a4a4a\" stroke=\"#4a4a4a\" points=\"454.23,-33.44 443.65,-32.98 451.63,-39.94 454.23,-33.44\"/>\n",
       "</a>\n",
       "</g>\n",
       "</g>\n",
       "<!-- Gender -->\n",
       "<g id=\"node6\" class=\"node\">\n",
       "<title>Gender</title>\n",
       "<g id=\"a_node6\"><a xlink:title=\"(1) Gender\">\n",
       "<ellipse fill=\"#404040\" stroke=\"black\" cx=\"704.69\" cy=\"-90\" rx=\"36.29\" ry=\"18\"/>\n",
       "<text text-anchor=\"middle\" x=\"704.69\" y=\"-86.3\" font-family=\"Times,serif\" font-size=\"14.00\" fill=\"white\">Gender</text>\n",
       "</a>\n",
       "</g>\n",
       "</g>\n",
       "<!-- Gender&#45;&gt;TBInfection -->\n",
       "<g id=\"edge5\" class=\"edge\">\n",
       "<title>Gender-&gt;TBInfection</title>\n",
       "<g id=\"a_edge5\"><a xlink:title=\"1 → 0\">\n",
       "<path fill=\"none\" stroke=\"#4a4a4a\" d=\"M677.18,-78.09C671.14,-75.91 664.75,-73.75 658.69,-72 594.11,-53.33 518.38,-38.19 467.34,-28.94\"/>\n",
       "<polygon fill=\"#4a4a4a\" stroke=\"#4a4a4a\" points=\"468.15,-25.53 457.69,-27.22 466.91,-32.42 468.15,-25.53\"/>\n",
       "</a>\n",
       "</g>\n",
       "</g>\n",
       "</g>\n",
       "</svg>"
      ],
      "text/plain": [
       "(pyAgrum.BayesNet<double>@0x7f8d38a1ca00) BN{nodes: 6, arcs: 5, domainSize: 144, dim: 79, mem: 1Ko 224o}"
      ]
     },
     "execution_count": 18,
     "metadata": {},
     "output_type": "execute_result"
    }
   ],
   "source": [
    "arcs = [\n",
    "    (clinical_symptoms, tb_infection),\n",
    "    (medical_history, tb_infection),\n",
    "    (urban_location, tb_infection),\n",
    "    (treatment_compliance, tb_infection),\n",
    "    (gender, tb_infection)\n",
    "]\n",
    "# Add the arcs to the Bayesian network\n",
    "for arc in arcs:\n",
    "    bn.addArc(*arc)\n",
    "bn"
   ]
  },
  {
   "cell_type": "code",
   "execution_count": 19,
   "metadata": {},
   "outputs": [
    {
     "data": {
      "text/html": [
       "<table style=\"border:1px solid black;\">\n",
       "<tr style='border:1px solid black;color:black;background-color:#808080'>\n",
       "      <th colspan='2'><center>UrbanLocation</center></th></tr>\n",
       "<tr><th style='border:1px solid black;border-bottom-style: double;color:black;background-color:#BBBBBB'>\n",
       "      <center>rural</center></th><th style='border:1px solid black;border-bottom-style: double;color:black;background-color:#BBBBBB'>\n",
       "      <center>urban</center></th></tr>\n",
       "<tr><td style='color:black;background-color:#e59864;text-align:right;'>0.2000</td><td style='color:black;background-color:#98e564;text-align:right;'>0.8000</td></tr>\n",
       "</table>"
      ],
      "text/plain": [
       "(pyAgrum.Potential<double>@0x7f8d3c2fccb0) \n",
       "  UrbanLocation    |\n",
       "rural    |urban    |\n",
       "---------|---------|\n",
       " 0.2000  | 0.8000  |"
      ]
     },
     "execution_count": 19,
     "metadata": {},
     "output_type": "execute_result"
    }
   ],
   "source": [
    "# Define the conditional probability tables \n",
    "bn.cpt('ClinicalSymptoms').fillWith([0.25,0.35,0.4])\n",
    "bn.cpt('Gender').fillWith([0.55,0.45])\n",
    "bn.cpt('MedicalHistory').fillWith([0.55,0.35,0.1])\n",
    "bn.cpt('TreatmentCompliance').fillWith([0.3,0.7])\n",
    "bn.cpt('UrbanLocation').fillWith([0.2,0.8])\n"
   ]
  },
  {
   "cell_type": "code",
   "execution_count": 20,
   "metadata": {},
   "outputs": [
    {
     "data": {
      "text/html": [
       "<svg xmlns=\"http://www.w3.org/2000/svg\" xmlns:xlink=\"http://www.w3.org/1999/xlink\" width=\"360pt\" height=\"56pt\" viewBox=\"0.00 0.00 360.00 55.75\">\n",
       "<g id=\"graph0\" class=\"graph\" transform=\"scale(0.480582 0.480582) rotate(0) translate(4 112)\">\n",
       "<title>G</title>\n",
       "<!-- TBInfection -->\n",
       "<g id=\"node1\" class=\"node\">\n",
       "<title>TBInfection</title>\n",
       "<g id=\"a_node1\"><a xlink:title=\"(0) TBInfection\">\n",
       "<ellipse fill=\"#404040\" stroke=\"black\" cx=\"408.69\" cy=\"-18\" rx=\"53.89\" ry=\"18\"/>\n",
       "<text text-anchor=\"middle\" x=\"408.69\" y=\"-14.3\" font-family=\"Times,serif\" font-size=\"14.00\" fill=\"white\">TBInfection</text>\n",
       "</a>\n",
       "</g>\n",
       "</g>\n",
       "<!-- UrbanLocation -->\n",
       "<g id=\"node2\" class=\"node\">\n",
       "<title>UrbanLocation</title>\n",
       "<g id=\"a_node2\"><a xlink:title=\"(4) UrbanLocation\">\n",
       "<ellipse fill=\"#404040\" stroke=\"black\" cx=\"63.69\" cy=\"-90\" rx=\"63.89\" ry=\"18\"/>\n",
       "<text text-anchor=\"middle\" x=\"63.69\" y=\"-86.3\" font-family=\"Times,serif\" font-size=\"14.00\" fill=\"white\">UrbanLocation</text>\n",
       "</a>\n",
       "</g>\n",
       "</g>\n",
       "<!-- UrbanLocation&#45;&gt;TBInfection -->\n",
       "<g id=\"edge1\" class=\"edge\">\n",
       "<title>UrbanLocation-&gt;TBInfection</title>\n",
       "<g id=\"a_edge1\"><a xlink:title=\"4 → 0\">\n",
       "<path fill=\"none\" stroke=\"#4a4a4a\" d=\"M111.15,-77.68C119.65,-75.73 128.42,-73.77 136.69,-72 210.48,-56.22 295.96,-39.88 351.1,-29.59\"/>\n",
       "<polygon fill=\"#4a4a4a\" stroke=\"#4a4a4a\" points=\"351.71,-33.04 360.9,-27.77 350.43,-26.16 351.71,-33.04\"/>\n",
       "</a>\n",
       "</g>\n",
       "</g>\n",
       "<!-- ClinicalSymptoms -->\n",
       "<g id=\"node3\" class=\"node\">\n",
       "<title>ClinicalSymptoms</title>\n",
       "<g id=\"a_node3\"><a xlink:title=\"(2) ClinicalSymptoms\">\n",
       "<ellipse fill=\"#404040\" stroke=\"black\" cx=\"222.69\" cy=\"-90\" rx=\"77.19\" ry=\"18\"/>\n",
       "<text text-anchor=\"middle\" x=\"222.69\" y=\"-86.3\" font-family=\"Times,serif\" font-size=\"14.00\" fill=\"white\">ClinicalSymptoms</text>\n",
       "</a>\n",
       "</g>\n",
       "</g>\n",
       "<!-- ClinicalSymptoms&#45;&gt;TBInfection -->\n",
       "<g id=\"edge2\" class=\"edge\">\n",
       "<title>ClinicalSymptoms-&gt;TBInfection</title>\n",
       "<g id=\"a_edge2\"><a xlink:title=\"2 → 0\">\n",
       "<path fill=\"none\" stroke=\"#4a4a4a\" d=\"M262.14,-74.15C291.81,-62.99 332.5,-47.67 363.48,-36.01\"/>\n",
       "<polygon fill=\"#4a4a4a\" stroke=\"#4a4a4a\" points=\"364.46,-39.39 372.59,-32.59 361.99,-32.84 364.46,-39.39\"/>\n",
       "</a>\n",
       "</g>\n",
       "</g>\n",
       "<!-- TreatmentCompliance -->\n",
       "<g id=\"node4\" class=\"node\">\n",
       "<title>TreatmentCompliance</title>\n",
       "<g id=\"a_node4\"><a xlink:title=\"(5) TreatmentCompliance\">\n",
       "<ellipse fill=\"#404040\" stroke=\"black\" cx=\"408.69\" cy=\"-90\" rx=\"90.18\" ry=\"18\"/>\n",
       "<text text-anchor=\"middle\" x=\"408.69\" y=\"-86.3\" font-family=\"Times,serif\" font-size=\"14.00\" fill=\"white\">TreatmentCompliance</text>\n",
       "</a>\n",
       "</g>\n",
       "</g>\n",
       "<!-- TreatmentCompliance&#45;&gt;TBInfection -->\n",
       "<g id=\"edge4\" class=\"edge\">\n",
       "<title>TreatmentCompliance-&gt;TBInfection</title>\n",
       "<g id=\"a_edge4\"><a xlink:title=\"5 → 0\">\n",
       "<path fill=\"none\" stroke=\"#4a4a4a\" d=\"M408.69,-71.7C408.69,-64.41 408.69,-55.73 408.69,-47.54\"/>\n",
       "<polygon fill=\"#4a4a4a\" stroke=\"#4a4a4a\" points=\"412.19,-47.62 408.69,-37.62 405.19,-47.62 412.19,-47.62\"/>\n",
       "</a>\n",
       "</g>\n",
       "</g>\n",
       "<!-- MedicalHistory -->\n",
       "<g id=\"node5\" class=\"node\">\n",
       "<title>MedicalHistory</title>\n",
       "<g id=\"a_node5\"><a xlink:title=\"(3) MedicalHistory\">\n",
       "<ellipse fill=\"#404040\" stroke=\"black\" cx=\"583.69\" cy=\"-90\" rx=\"66.09\" ry=\"18\"/>\n",
       "<text text-anchor=\"middle\" x=\"583.69\" y=\"-86.3\" font-family=\"Times,serif\" font-size=\"14.00\" fill=\"white\">MedicalHistory</text>\n",
       "</a>\n",
       "</g>\n",
       "</g>\n",
       "<!-- MedicalHistory&#45;&gt;TBInfection -->\n",
       "<g id=\"edge3\" class=\"edge\">\n",
       "<title>MedicalHistory-&gt;TBInfection</title>\n",
       "<g id=\"a_edge3\"><a xlink:title=\"3 → 0\">\n",
       "<path fill=\"none\" stroke=\"#4a4a4a\" d=\"M547.43,-74.5C519.88,-63.48 481.87,-48.27 452.59,-36.56\"/>\n",
       "<polygon fill=\"#4a4a4a\" stroke=\"#4a4a4a\" points=\"454.23,-33.44 443.65,-32.98 451.63,-39.94 454.23,-33.44\"/>\n",
       "</a>\n",
       "</g>\n",
       "</g>\n",
       "<!-- Gender -->\n",
       "<g id=\"node6\" class=\"node\">\n",
       "<title>Gender</title>\n",
       "<g id=\"a_node6\"><a xlink:title=\"(1) Gender\">\n",
       "<ellipse fill=\"#404040\" stroke=\"black\" cx=\"704.69\" cy=\"-90\" rx=\"36.29\" ry=\"18\"/>\n",
       "<text text-anchor=\"middle\" x=\"704.69\" y=\"-86.3\" font-family=\"Times,serif\" font-size=\"14.00\" fill=\"white\">Gender</text>\n",
       "</a>\n",
       "</g>\n",
       "</g>\n",
       "<!-- Gender&#45;&gt;TBInfection -->\n",
       "<g id=\"edge5\" class=\"edge\">\n",
       "<title>Gender-&gt;TBInfection</title>\n",
       "<g id=\"a_edge5\"><a xlink:title=\"1 → 0\">\n",
       "<path fill=\"none\" stroke=\"#4a4a4a\" d=\"M677.18,-78.09C671.14,-75.91 664.75,-73.75 658.69,-72 594.11,-53.33 518.38,-38.19 467.34,-28.94\"/>\n",
       "<polygon fill=\"#4a4a4a\" stroke=\"#4a4a4a\" points=\"468.15,-25.53 457.69,-27.22 466.91,-32.42 468.15,-25.53\"/>\n",
       "</a>\n",
       "</g>\n",
       "</g>\n",
       "</g>\n",
       "</svg>"
      ],
      "text/plain": [
       "(pyAgrum.BayesNet<double>@0x7f8d38a1ca00) BN{nodes: 6, arcs: 5, domainSize: 144, dim: 79, mem: 1Ko 224o}"
      ]
     },
     "execution_count": 20,
     "metadata": {},
     "output_type": "execute_result"
    }
   ],
   "source": [
    "# Showing the BN\n",
    "bn\n",
    "#bn.saveBIFXML(\"BN_model.bif\")"
   ]
  },
  {
   "cell_type": "code",
   "execution_count": 21,
   "metadata": {},
   "outputs": [
    {
     "ename": "Exception",
     "evalue": "[pyAgrum] Several evidence/CPT are incompatible together (proba=0): some evidence entered into the Bayes net are incompatible (their joint proba = 0)",
     "output_type": "error",
     "traceback": [
      "\u001b[0;31m---------------------------------------------------------------------------\u001b[0m",
      "\u001b[0;31mException\u001b[0m                                 Traceback (most recent call last)",
      "Cell \u001b[0;32mIn[21], line 4\u001b[0m\n\u001b[1;32m      1\u001b[0m \u001b[39m#Compute the posterior probability of TB Infection - inference\u001b[39;00m\n\u001b[1;32m      2\u001b[0m \u001b[39m#gum.makeInference()\u001b[39;00m\n\u001b[1;32m      3\u001b[0m ie \u001b[39m=\u001b[39m gum\u001b[39m.\u001b[39mVariableElimination(bn)\n\u001b[0;32m----> 4\u001b[0m gnb\u001b[39m.\u001b[39;49mshowInference(bn, evs\u001b[39m=\u001b[39;49m{}, engine\u001b[39m=\u001b[39;49mie)\n\u001b[1;32m      6\u001b[0m \u001b[39m#Compile the Bayesian network \u001b[39;00m\n\u001b[1;32m      7\u001b[0m ie \u001b[39m=\u001b[39m gum\u001b[39m.\u001b[39mLazyPropagation(bn)\n",
      "File \u001b[0;32m~/Library/Python/3.9/lib/python/site-packages/pyAgrum/lib/notebook.py:1008\u001b[0m, in \u001b[0;36mshowInference\u001b[0;34m(model, **kwargs)\u001b[0m\n\u001b[1;32m   1005\u001b[0m \u001b[39melse\u001b[39;00m:\n\u001b[1;32m   1006\u001b[0m   size \u001b[39m=\u001b[39m gum\u001b[39m.\u001b[39mconfig[\u001b[39m\"\u001b[39m\u001b[39mnotebook\u001b[39m\u001b[39m\"\u001b[39m, \u001b[39m\"\u001b[39m\u001b[39mdefault_graph_inference_size\u001b[39m\u001b[39m\"\u001b[39m]\n\u001b[0;32m-> 1008\u001b[0m showGraph(prepareShowInference(model, \u001b[39m*\u001b[39;49m\u001b[39m*\u001b[39;49mkwargs), size)\n",
      "File \u001b[0;32m~/Library/Python/3.9/lib/python/site-packages/pyAgrum/lib/image.py:159\u001b[0m, in \u001b[0;36mprepareShowInference\u001b[0;34m(model, engine, evs, targets, size, nodeColor, factorColor, arcWidth, arcColor, cmap, cmapArc, graph, view)\u001b[0m\n\u001b[1;32m    157\u001b[0m   \u001b[39mif\u001b[39;00m engine \u001b[39mis\u001b[39;00m \u001b[39mNone\u001b[39;00m:\n\u001b[1;32m    158\u001b[0m     engine \u001b[39m=\u001b[39m gum\u001b[39m.\u001b[39mLazyPropagation(model)\n\u001b[0;32m--> 159\u001b[0m   \u001b[39mreturn\u001b[39;00m BNinference2dot(model, size\u001b[39m=\u001b[39;49msize, engine\u001b[39m=\u001b[39;49mengine, evs\u001b[39m=\u001b[39;49mevs, targets\u001b[39m=\u001b[39;49mtargets, nodeColor\u001b[39m=\u001b[39;49mnodeColor,\n\u001b[1;32m    160\u001b[0m                          arcWidth\u001b[39m=\u001b[39;49marcWidth,\n\u001b[1;32m    161\u001b[0m                          arcColor\u001b[39m=\u001b[39;49marcColor,\n\u001b[1;32m    162\u001b[0m                          cmapNode\u001b[39m=\u001b[39;49mcmap, cmapArc\u001b[39m=\u001b[39;49mcmapArc\n\u001b[1;32m    163\u001b[0m                          )\n\u001b[1;32m    164\u001b[0m \u001b[39mif\u001b[39;00m \u001b[39misinstance\u001b[39m(model, gum\u001b[39m.\u001b[39mMarkovRandomField):\n\u001b[1;32m    165\u001b[0m   \u001b[39mif\u001b[39;00m view \u001b[39mis\u001b[39;00m \u001b[39mNone\u001b[39;00m:\n",
      "File \u001b[0;32m~/Library/Python/3.9/lib/python/site-packages/pyAgrum/lib/bn2graph.py:243\u001b[0m, in \u001b[0;36mBNinference2dot\u001b[0;34m(bn, size, engine, evs, targets, nodeColor, arcWidth, arcColor, cmapNode, cmapArc, dag)\u001b[0m\n\u001b[1;32m    239\u001b[0m \u001b[39mif\u001b[39;00m \u001b[39mlen\u001b[39m(targets) \u001b[39m==\u001b[39m \u001b[39m0\u001b[39m \u001b[39mor\u001b[39;00m name \u001b[39min\u001b[39;00m targets \u001b[39mor\u001b[39;00m nid \u001b[39min\u001b[39;00m targets:\n\u001b[1;32m    240\u001b[0m   filename \u001b[39m=\u001b[39m temp_dir \u001b[39m+\u001b[39m \\\n\u001b[1;32m    241\u001b[0m              hashlib\u001b[39m.\u001b[39mmd5(name\u001b[39m.\u001b[39mencode())\u001b[39m.\u001b[39mhexdigest() \u001b[39m+\u001b[39m \u001b[39m\"\u001b[39m\u001b[39m.\u001b[39m\u001b[39m\"\u001b[39m \u001b[39m+\u001b[39m \\\n\u001b[1;32m    242\u001b[0m              gum\u001b[39m.\u001b[39mconfig[\u001b[39m\"\u001b[39m\u001b[39mnotebook\u001b[39m\u001b[39m\"\u001b[39m, \u001b[39m\"\u001b[39m\u001b[39mgraph_format\u001b[39m\u001b[39m\"\u001b[39m]\n\u001b[0;32m--> 243\u001b[0m   proba_histogram\u001b[39m.\u001b[39msaveFigProba(ie\u001b[39m.\u001b[39;49mposterior(name), filename, bgcolor\u001b[39m=\u001b[39mbgcol)\n\u001b[1;32m    244\u001b[0m   dotstr \u001b[39m+\u001b[39m\u001b[39m=\u001b[39m \u001b[39mf\u001b[39m\u001b[39m'\u001b[39m\u001b[39m \u001b[39m\u001b[39m\"\u001b[39m\u001b[39m{\u001b[39;00mname\u001b[39m}\u001b[39;00m\u001b[39m\"\u001b[39m\u001b[39m [shape=rectangle,image=\u001b[39m\u001b[39m\"\u001b[39m\u001b[39m{\u001b[39;00mfilename\u001b[39m}\u001b[39;00m\u001b[39m\"\u001b[39m\u001b[39m,label=\u001b[39m\u001b[39m\"\u001b[39m\u001b[39m\"\u001b[39m\u001b[39m, \u001b[39m\u001b[39m{\u001b[39;00mcolorattribute\u001b[39m}\u001b[39;00m\u001b[39m];\u001b[39m\u001b[39m\\n\u001b[39;00m\u001b[39m'\u001b[39m\n\u001b[1;32m    245\u001b[0m \u001b[39melse\u001b[39;00m:\n",
      "File \u001b[0;32m~/Library/Python/3.9/lib/python/site-packages/pyAgrum/pyAgrum.py:15573\u001b[0m, in \u001b[0;36mVariableElimination.posterior\u001b[0;34m(self, *args)\u001b[0m\n\u001b[1;32m  15550\u001b[0m \u001b[39mdef\u001b[39;00m \u001b[39mposterior\u001b[39m(\u001b[39mself\u001b[39m, \u001b[39m*\u001b[39margs) \u001b[39m-\u001b[39m\u001b[39m>\u001b[39m \u001b[39m\"\u001b[39m\u001b[39mpyAgrum.Potential\u001b[39m\u001b[39m\"\u001b[39m:\n\u001b[1;32m  15551\u001b[0m     \u001b[39mr\u001b[39m\u001b[39m\"\"\"\u001b[39;00m\n\u001b[1;32m  15552\u001b[0m \n\u001b[1;32m  15553\u001b[0m \u001b[39m    Computes and returns the posterior of a node.\u001b[39;00m\n\u001b[0;32m   (...)\u001b[0m\n\u001b[1;32m  15571\u001b[0m \n\u001b[1;32m  15572\u001b[0m \u001b[39m    \"\"\"\u001b[39;00m\n\u001b[0;32m> 15573\u001b[0m     \u001b[39mreturn\u001b[39;00m _pyAgrum\u001b[39m.\u001b[39;49mVariableElimination_posterior(\u001b[39mself\u001b[39;49m, \u001b[39m*\u001b[39;49margs)\n",
      "\u001b[0;31mException\u001b[0m: [pyAgrum] Several evidence/CPT are incompatible together (proba=0): some evidence entered into the Bayes net are incompatible (their joint proba = 0)"
     ]
    }
   ],
   "source": [
    "#Compute the posterior probability of TB Infection - inference\n",
    "#gum.makeInference()\n",
    "ie = gum.VariableElimination(bn)\n",
    "gnb.showInference(bn, evs={}, engine=ie)\n",
    "\n",
    "#Compile the Bayesian network \n",
    "ie = gum.LazyPropagation(bn)\n",
    "\n",
    "\n",
    "#Set the evidence (observed nodes)\n",
    "#ie.setEvidence({'Academic Performance': 'low'})\n"
   ]
  },
  {
   "cell_type": "code",
   "execution_count": null,
   "metadata": {},
   "outputs": [],
   "source": []
  }
 ],
 "metadata": {
  "kernelspec": {
   "display_name": "Python 3 (ipykernel)",
   "language": "python",
   "name": "python3"
  },
  "language_info": {
   "codemirror_mode": {
    "name": "ipython",
    "version": 3
   },
   "file_extension": ".py",
   "mimetype": "text/x-python",
   "name": "python",
   "nbconvert_exporter": "python",
   "pygments_lexer": "ipython3",
   "version": "3.9.6"
  },
  "vscode": {
   "interpreter": {
    "hash": "916dbcbb3f70747c44a77c7bcd40155683ae19c65e1c03b4aa3499c5328201f1"
   }
  }
 },
 "nbformat": 4,
 "nbformat_minor": 2
}
