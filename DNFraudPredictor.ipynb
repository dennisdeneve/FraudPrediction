{
 "cells": [
  {
   "cell_type": "code",
   "execution_count": null,
   "id": "0db982a6",
   "metadata": {},
   "outputs": [],
   "source": [
    "import pyAgrum as gum\n",
    "import pyAgrum.lib.notebook as gnb"
   ]
  },
  {
   "cell_type": "code",
   "execution_count": null,
   "id": "f6fec680",
   "metadata": {},
   "outputs": [],
   "source": [
    "dn = gum.InfluenceDiagram()"
   ]
  },
  {
   "cell_type": "code",
   "execution_count": null,
   "id": "0e119439",
   "metadata": {},
   "outputs": [],
   "source": [
    "# Decision Nodes\n",
    "call_check_in=dn.addDecisionNode(gum.LabelizedVariable('CallCheckIn', 'call_check_in', ['no', 'yes']))\n",
    "\n",
    "# Chance Nodes\n",
    "# government_support=dn.addChanceNode(gum.LabelizedVariable('GovernmentSupport', 'government_support', ['no', 'yes']))\n",
    "# school_motivation=dn.addChanceNode(gum.LabelizedVariable('SchoolMotivation','schoolmotivation', ['low', 'medium', 'high']))\n",
    "# academic_performance=dn.addChanceNode(gum.LabelizedVariable('AcademicPerformance','academic_performance', ['0-50', '50-60', '70-100']))\n",
    "# attendance=dn.addChanceNode(gum.LabelizedVariable('Attendance','attendance', ['low', 'high']))\n",
    "# family_support=dn.addChanceNode(gum.LabelizedVariable('FamilySupport', 'family_support', ['no', 'yes']))\n",
    "# internet=dn.addChanceNode(gum.LabelizedVariable('Internet', 'internet',['no','yes']))\n",
    "# family_income=dn.addChanceNode(gum.LabelizedVariable('FamilyIncome', 'family_income',['0-350000','350001-700000','700000+']))\n",
    "# financial_support=dn.addChanceNode(gum.LabelizedVariable('FinancialSupport', 'financial_support', ['no', 'yes']))\n",
    "# likelihood_of_dropout=dn.addChanceNode(gum.LabelizedVariable('LikelihoodOfDropout', 'likelihood_of_dropout', ['low', 'medium', 'high']))\n",
    "\n",
    "# Chance Nodes\n",
    "user_behaviour=dn.addChanceNode(gum.LabelizedVariable('UserBehavior','user_behaviour', ['low', 'medium', 'high']))\n",
    "account_age=dn.addChanceNode(gum.LabelizedVariable('AccountAge','account_age', ['0-50', '50-60', '70-100']))\n",
    "georgraphic_location=dn.addChanceNode(gum.LabelizedVariable('GeographicLocation', 'georgraphic_location', ['no', 'yes']))\n",
    "transaction_amount=dn.addChanceNode(gum.LabelizedVariable('TransactionAmount', 'transaction_amount',['0-350000','350001-700000','700000+']))\n",
    "transaction_info=dn.addChanceNode(gum.LabelizedVariable('TransactionInfo', 'transaction_info', ['no', 'yes']))\n",
    "transaction_frequency=dn.addChanceNode(gum.LabelizedVariable('TransactionFrequency', 'transaction_frequency', ['no', 'yes']))\n",
    "likelihood_of_fraud=dn.addChanceNode(gum.LabelizedVariable('LikelihoodOfFraud', 'likelihood_of_fraud', ['low', 'medium', 'high']))\n",
    "print (\"BN With vars : \",dn)\n",
    "\n",
    "\n",
    "# Utility Nodes\n",
    "check_in_needed = dn.addUtilityNode(gum.LabelizedVariable('CallCheckInNeeded', 'check_in_needed', 1))"
   ]
  },
  {
   "cell_type": "code",
   "execution_count": null,
   "id": "51fb8972",
   "metadata": {},
   "outputs": [],
   "source": [
    "# Addding arcs between the nodes\n",
    "# arcs = [(school_motivation, likelihood_of_dropout),(academic_performance, school_motivation), (attendance, school_motivation), (family_support, likelihood_of_dropout), (financial_support, likelihood_of_dropout), (government_support, financial_support), (family_income, financial_support),(internet, academic_performance),(school_work_shop, academic_performance),(school_work_shop, school_workshop_needed),(likelihood_of_dropout, school_workshop_needed),(family_income,school_workshop_needed)]#(government_support, grant_applicability) (likelihood_of_dropout, grant_applicability)\n",
    "# for arc in arcs:\n",
    "#     dn.addArc(*arc)\n",
    "arcs = [(user_behaviour, likelihood_of_fraud),(account_age, user_behaviour), (transaction_info, likelihood_of_fraud), (transaction_frequency, transaction_info),(transaction_amount, transaction_info),(georgraphic_location, likelihood_of_fraud)]\n",
    "for arc in arcs:\n",
    "    dn.addArc(*arc)\n",
    "dn"
   ]
  },
  {
   "cell_type": "code",
   "execution_count": null,
   "id": "4ca39b9c",
   "metadata": {},
   "outputs": [],
   "source": [
    "# #setting probabilities\n",
    "# dn.cpt('Attendance').fillWith([0.1,0.9])\n",
    "# dn.cpt('Internet').fillWith([0.9,0.1])\n",
    "\n",
    "# dn.cpt('GovernmentSupport').fillWith([0.92,0.08])\n",
    "# dn.cpt('FamilyIncome').fillWith([0.3,0.4,0.2])\n",
    "# dn.cpt('FamilySupport').fillWith([0.33,0.67])\n",
    "\n",
    "# dn.cpt('AcademicPerformance')[{'SchoolWorkShop': 0, 'Internet': 0}] = [0.85, 0.1, 0.05]\n",
    "# dn.cpt('AcademicPerformance')[{'SchoolWorkShop': 0, 'Internet': 1}] = [0.5, 0.25, 0.1]\n",
    "# dn.cpt('AcademicPerformance')[{'SchoolWorkShop': 1, 'Internet': 0}] = [0.1, 0.4, 0.5]\n",
    "# dn.cpt('AcademicPerformance')[{'SchoolWorkShop': 1, 'Internet': 1}] = [0.05, 0.55, 0.4]\n",
    "\n",
    "# dn.cpt('SchoolMotivation')[{'AcademicPerformance': 0, 'Attendance': 0}] = [1, 0, 0]\n",
    "# dn.cpt('SchoolMotivation')[{'AcademicPerformance': 0, 'Attendance': 1}] = [0.6, 0.15, 0.25]\n",
    "# dn.cpt('SchoolMotivation')[{'AcademicPerformance': 1, 'Attendance': 0}] = [0.4, 0.5, 0.1]\n",
    "# dn.cpt('SchoolMotivation')[{'AcademicPerformance': 1, 'Attendance': 1}] = [0.2, 0.525, 0.275]\n",
    "# dn.cpt('SchoolMotivation')[{'AcademicPerformance': 2, 'Attendance': 0}] = [0.1, 0.675, 0.225]\n",
    "# dn.cpt('SchoolMotivation')[{'AcademicPerformance': 2, 'Attendance': 1}] = [0.05, 0.8, 0.15]\n",
    "\n",
    "# dn.cpt('FinancialSupport')[{'FamilyIncome': 0, 'GovernmentSupport': 0}] = [1, 0]\n",
    "# dn.cpt('FinancialSupport')[{'FamilyIncome': 0, 'GovernmentSupport': 1}] = [0.35, 0.65]\n",
    "# dn.cpt('FinancialSupport')[{'FamilyIncome': 1, 'GovernmentSupport': 0}] = [0.2, 0.8]\n",
    "# dn.cpt('FinancialSupport')[{'FamilyIncome': 1, 'GovernmentSupport': 1}] = [0.1, 0.9]\n",
    "# dn.cpt('FinancialSupport')[{'FamilyIncome': 2, 'GovernmentSupport': 0}] = [0.05, 0.95]\n",
    "# dn.cpt('FinancialSupport')[{'FamilyIncome': 2, 'GovernmentSupport': 1}] = [0, 1]\n",
    "\n",
    "# dn.cpt('LikelihoodOfDropout')[{'FamilySupport': 0, 'FinancialSupport': 0, 'SchoolMotivation': 0}] = [0.0, 0.45, 0.55]\n",
    "# dn.cpt('LikelihoodOfDropout')[{'FamilySupport': 0, 'FinancialSupport': 0, 'SchoolMotivation': 1}] = [0.1, 0.5, 0.4]\n",
    "# dn.cpt('LikelihoodOfDropout')[{'FamilySupport': 0, 'FinancialSupport': 0, 'SchoolMotivation': 2}] = [0.425, 0.325, 0.25]\n",
    "# dn.cpt('LikelihoodOfDropout')[{'FamilySupport': 0, 'FinancialSupport': 1, 'SchoolMotivation': 0}] = [0.2, 0.5, 0.3]\n",
    "# dn.cpt('LikelihoodOfDropout')[{'FamilySupport': 0, 'FinancialSupport': 1, 'SchoolMotivation': 1}] = [0.35, 0.5, 0.15]\n",
    "# dn.cpt('LikelihoodOfDropout')[{'FamilySupport': 0, 'FinancialSupport': 1, 'SchoolMotivation': 2}] = [0.575, 0.325, 0.1] \n",
    "# dn.cpt('LikelihoodOfDropout')[{'FamilySupport': 1, 'FinancialSupport': 0, 'SchoolMotivation': 0}] = [0.4, 0.475, 0.125]\n",
    "# dn.cpt('LikelihoodOfDropout')[{'FamilySupport': 1, 'FinancialSupport': 0, 'SchoolMotivation': 1}] = [0.6, 0.3, 0.1]\n",
    "# dn.cpt('LikelihoodOfDropout')[{'FamilySupport': 1, 'FinancialSupport': 0, 'SchoolMotivation': 2}] = [.75, 0.155, 0.095]\n",
    "# dn.cpt('LikelihoodOfDropout')[{'FamilySupport': 1, 'FinancialSupport': 1, 'SchoolMotivation': 0}] = [0.725, 0.225, 0.05]\n",
    "# dn.cpt('LikelihoodOfDropout')[{'FamilySupport': 1, 'FinancialSupport': 1, 'SchoolMotivation': 1}] = [0.8, 0.15, 0.05]\n",
    "# dn.cpt('LikelihoodOfDropout')[{'FamilySupport': 1, 'FinancialSupport': 1, 'SchoolMotivation': 2}] = [0.9, 0.08, 0.02]\n",
    "\n",
    "# dn.utility('SchoolWorkshopNeeded')[{'FamilyIncome': 0,'LikelihoodOfDropout': 0, 'SchoolWorkShop': 0}] = 20\n",
    "# dn.utility('SchoolWorkshopNeeded')[{'FamilyIncome': 0,'LikelihoodOfDropout': 0, 'SchoolWorkShop': 1}] = 18\n",
    "# dn.utility('SchoolWorkshopNeeded')[{'FamilyIncome': 0,'LikelihoodOfDropout': 1, 'SchoolWorkShop': 0}] = 10\n",
    "# dn.utility('SchoolWorkshopNeeded')[{'FamilyIncome': 0,'LikelihoodOfDropout': 1, 'SchoolWorkShop': 1}] = 8\n",
    "# dn.utility('SchoolWorkshopNeeded')[{'FamilyIncome': 0,'LikelihoodOfDropout': 2, 'SchoolWorkShop': 0}] = 0\n",
    "# dn.utility('SchoolWorkshopNeeded')[{'FamilyIncome': 0,'LikelihoodOfDropout': 2, 'SchoolWorkShop': 1}] = -2\n",
    "\n",
    "# dn.utility('SchoolWorkshopNeeded')[{'FamilyIncome': 1,'LikelihoodOfDropout': 0, 'SchoolWorkShop': 0}] = 10\n",
    "# dn.utility('SchoolWorkshopNeeded')[{'FamilyIncome': 1,'LikelihoodOfDropout': 0, 'SchoolWorkShop': 1}] = 8\n",
    "# dn.utility('SchoolWorkshopNeeded')[{'FamilyIncome': 1,'LikelihoodOfDropout': 1, 'SchoolWorkShop': 0}] = 0\n",
    "# dn.utility('SchoolWorkshopNeeded')[{'FamilyIncome': 1,'LikelihoodOfDropout': 1, 'SchoolWorkShop': 1}] = -2\n",
    "# dn.utility('SchoolWorkshopNeeded')[{'FamilyIncome': 1,'LikelihoodOfDropout': 2, 'SchoolWorkShop': 0}] = -10\n",
    "# dn.utility('SchoolWorkshopNeeded')[{'FamilyIncome': 1,'LikelihoodOfDropout': 2, 'SchoolWorkShop': 1}] = -12\n",
    "\n",
    "# dn.utility('SchoolWorkshopNeeded')[{'FamilyIncome': 2,'LikelihoodOfDropout': 0, 'SchoolWorkShop': 0}] = 0\n",
    "# dn.utility('SchoolWorkshopNeeded')[{'FamilyIncome': 2,'LikelihoodOfDropout': 0, 'SchoolWorkShop': 1}] = -2\n",
    "# dn.utility('SchoolWorkshopNeeded')[{'FamilyIncome': 2,'LikelihoodOfDropout': 1, 'SchoolWorkShop': 0}] = -10\n",
    "# dn.utility('SchoolWorkshopNeeded')[{'FamilyIncome': 2,'LikelihoodOfDropout': 1, 'SchoolWorkShop': 1}] = -12\n",
    "# dn.utility('SchoolWorkshopNeeded')[{'FamilyIncome': 2,'LikelihoodOfDropout': 2, 'SchoolWorkShop': 0}] = -20\n",
    "# dn.utility('SchoolWorkshopNeeded')[{'FamilyIncome': 2,'LikelihoodOfDropout': 2, 'SchoolWorkShop': 1}] = -22\n",
    "\n",
    "# Define the conditional probability tables \n",
    "\n",
    "dn.cpt('AccountAge').fillWith([0.2,0.65,0.15])\n",
    "dn.cpt('TransactionFrequency').fillWith([0.92,0.08])\n",
    "dn.cpt('TransactionAmount').fillWith([0.3,0.4,0.2])\n",
    "\n",
    "dn.cpt('TransactionInfo')[{'TransactionAmount': 0, 'TransactionFrequency': 0}] = [1, 0]\n",
    "dn.cpt('TransactionInfo')[{'TransactionAmount': 0, 'TransactionFrequency': 1}] = [0.75, 0.25]\n",
    "dn.cpt('TransactionInfo')[{'TransactionAmount': 1, 'TransactionFrequency': 0}] = [0.35, 0.65]\n",
    "dn.cpt('TransactionInfo')[{'TransactionAmount': 1, 'TransactionFrequency': 1}] = [0.175, 0.825]\n",
    "dn.cpt('TransactionInfo')[{'TransactionAmount': 2, 'TransactionFrequency': 0}] = [0.05, 0.95]\n",
    "dn.cpt('TransactionInfo')[{'TransactionAmount': 2, 'TransactionFrequency': 1}] = [0, 1]\n",
    "\n",
    "dn.cpt('GeographicLocation').fillWith([0.33,0.67])\n",
    "\n",
    "dn.cpt('UserBehavior')[{'AccountAge': 0}] = [0.6, 0.15, 0.25]\n",
    "dn.cpt('UserBehavior')[{'AccountAge': 1}] = [0.4, 0.5, 0.1]\n",
    "dn.cpt('UserBehavior')[{'AccountAge': 2}] = [0.05, 0.8, 0.15]\n",
    "\n",
    "dn.cpt('LikelihoodOfFraud')[{'GeographicLocation': 0, 'TransactionInfo': 0, 'UserBehavior': 0}] = [0.0, 0.45, 0.55]\n",
    "dn.cpt('LikelihoodOfFraud')[{'GeographicLocation': 0, 'TransactionInfo': 0, 'UserBehavior': 1}] = [0.1, 0.5, 0.4]\n",
    "dn.cpt('LikelihoodOfFraud')[{'GeographicLocation': 0, 'TransactionInfo': 0, 'UserBehavior': 2}] = [0.425, 0.325, 0.25]\n",
    "dn.cpt('LikelihoodOfFraud')[{'GeographicLocation': 0, 'TransactionInfo': 1, 'UserBehavior': 0}] = [0.2, 0.5, 0.3]\n",
    "dn.cpt('LikelihoodOfFraud')[{'GeographicLocation': 0, 'TransactionInfo': 1, 'UserBehavior': 1}] = [0.35, 0.5, 0.15]\n",
    "dn.cpt('LikelihoodOfFraud')[{'GeographicLocation': 0, 'TransactionInfo': 1, 'UserBehavior': 2}] = [0.575, 0.325, 0.1]\n",
    "dn.cpt('LikelihoodOfFraud')[{'GeographicLocation': 1, 'TransactionInfo': 0, 'UserBehavior': 0}] = [0.4, 0.475, 0.125]\n",
    "dn.cpt('LikelihoodOfFraud')[{'GeographicLocation': 1, 'TransactionInfo': 0, 'UserBehavior': 1}] = [0.6, 0.3, 0.1]\n",
    "dn.cpt('LikelihoodOfFraud')[{'GeographicLocation': 1, 'TransactionInfo': 0, 'UserBehavior': 2}] = [.75, 0.155, 0.095]\n",
    "dn.cpt('LikelihoodOfFraud')[{'GeographicLocation': 1, 'TransactionInfo': 1, 'UserBehavior': 0}] = [0.825, 0.125, 0.05]\n",
    "dn.cpt('LikelihoodOfFraud')[{'GeographicLocation': 1, 'TransactionInfo': 1, 'UserBehavior': 1}] = [0.915, 0.075, 0.01]\n",
    "dn.cpt('LikelihoodOfFraud')[{'GeographicLocation': 1, 'TransactionInfo': 1, 'UserBehavior': 2}] = [0.955, 0.05, 0.005]\n",
    "\n",
    "dn.utility('CallCheckInNeeded')[{'LikelihoodOfFraud': 0,'CallCheckIn': 0}] = 20\n",
    "dn.utility('CallCheckInNeeded')[{'LikelihoodOfFraud': 0, 'CallCheckIn': 1}] = 12\n",
    "dn.utility('CallCheckInNeeded')[{'LikelihoodOfFraud': 1, 'CallCheckIn': 0}] = 0\n",
    "dn.utility('CallCheckInNeeded')[{'LikelihoodOfFraud': 1, 'CallCheckIn': 1}] = -2\n"
   ]
  },
  {
   "cell_type": "code",
   "execution_count": null,
   "id": "e9f54cd2",
   "metadata": {},
   "outputs": [],
   "source": [
    "dn"
   ]
  },
  {
   "cell_type": "code",
   "execution_count": null,
   "id": "838f313a",
   "metadata": {},
   "outputs": [],
   "source": [
    "# With no evidence\n",
    "gnb.showInference(dn, evs={})\n",
    "dn.saveBIFXML(\"DN_scenario0.bif\")"
   ]
  },
  {
   "cell_type": "code",
   "execution_count": null,
   "id": "15e6f09f",
   "metadata": {},
   "outputs": [],
   "source": [
    "#setting evidence\n",
    "#scenario 1 (conditions applicable for workshop)\n",
    "gnb.showInference(dn, evs={'FamilySupport':'no', 'Attendance':'low', 'Internet':'no','FamilyIncome':'0-350000'})\n",
    "dn.saveBIFXML(\"DN_scenario1.bif\")"
   ]
  },
  {
   "cell_type": "code",
   "execution_count": null,
   "id": "bbeab2c5",
   "metadata": {},
   "outputs": [],
   "source": [
    "#scenario2 (evidence not applicable for workshop)\n",
    "gnb.showInference(dn, evs={'FamilySupport':'yes', 'Attendance':'high','Internet': 'yes','FamilyIncome':'700000+'})\n",
    "dn.saveBIFXML(\"DN_scenario2.bif\")"
   ]
  },
  {
   "cell_type": "code",
   "execution_count": null,
   "id": "fcd79da3",
   "metadata": {},
   "outputs": [],
   "source": [
    "#scenario3 (evidence for an ambiguous decision)\n",
    "gnb.showInference(dn, evs={'FamilySupport':'no', 'Attendance':'high','Internet': 'yes','FamilyIncome':'350001-700000'})\n",
    "dn.saveBIFXML(\"DN_scenario3.bif\")"
   ]
  },
  {
   "cell_type": "code",
   "execution_count": null,
   "id": "14856f78",
   "metadata": {},
   "outputs": [],
   "source": []
  }
 ],
 "metadata": {
  "kernelspec": {
   "display_name": "Python 3 (ipykernel)",
   "language": "python",
   "name": "python3"
  },
  "language_info": {
   "codemirror_mode": {
    "name": "ipython",
    "version": 3
   },
   "file_extension": ".py",
   "mimetype": "text/x-python",
   "name": "python",
   "nbconvert_exporter": "python",
   "pygments_lexer": "ipython3",
   "version": "3.9.6"
  }
 },
 "nbformat": 4,
 "nbformat_minor": 5
}
